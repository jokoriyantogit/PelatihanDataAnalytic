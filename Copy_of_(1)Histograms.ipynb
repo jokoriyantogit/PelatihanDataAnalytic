{
  "cells": [
    {
      "cell_type": "markdown",
      "metadata": {
        "id": "view-in-github",
        "colab_type": "text"
      },
      "source": [
        "<a href=\"https://colab.research.google.com/github/jokoriyantogit/PelatihanDataAnalytic/blob/main/Copy_of_(1)Histograms.ipynb\" target=\"_parent\"><img src=\"https://colab.research.google.com/assets/colab-badge.svg\" alt=\"Open In Colab\"/></a>"
      ]
    },
    {
      "cell_type": "markdown",
      "metadata": {
        "id": "BXgemyk5dhLg"
      },
      "source": [
        "### Importing Libraries and Data"
      ]
    },
    {
      "cell_type": "code",
      "execution_count": null,
      "metadata": {
        "id": "Tnh0l8-LdhLk"
      },
      "outputs": [],
      "source": [
        "import numpy as np\n",
        "import matplotlib\n",
        "import matplotlib.pyplot as plt\n",
        "import pandas as pd\n",
        "\n",
        "#np_data=pd.read_csv('datasets/national_parks.csv')"
      ]
    },
    {
      "cell_type": "code",
      "execution_count": null,
      "metadata": {
        "id": "xSbM8JnNdhLm",
        "outputId": "ea40e6e3-99c8-43a7-ec74-93a20bc8271f"
      },
      "outputs": [
        {
          "data": {
            "text/html": [
              "<div>\n",
              "<style scoped>\n",
              "    .dataframe tbody tr th:only-of-type {\n",
              "        vertical-align: middle;\n",
              "    }\n",
              "\n",
              "    .dataframe tbody tr th {\n",
              "        vertical-align: top;\n",
              "    }\n",
              "\n",
              "    .dataframe thead th {\n",
              "        text-align: right;\n",
              "    }\n",
              "</style>\n",
              "<table border=\"1\" class=\"dataframe\">\n",
              "  <thead>\n",
              "    <tr style=\"text-align: right;\">\n",
              "      <th></th>\n",
              "      <th>Year</th>\n",
              "      <th>Badlands</th>\n",
              "      <th>GrandCanyon</th>\n",
              "      <th>BryceCanyon</th>\n",
              "    </tr>\n",
              "  </thead>\n",
              "  <tbody>\n",
              "    <tr>\n",
              "      <th>0</th>\n",
              "      <td>1961</td>\n",
              "      <td>833300</td>\n",
              "      <td>1253000</td>\n",
              "      <td>264800</td>\n",
              "    </tr>\n",
              "    <tr>\n",
              "      <th>1</th>\n",
              "      <td>1962</td>\n",
              "      <td>1044800</td>\n",
              "      <td>1447400</td>\n",
              "      <td>251000</td>\n",
              "    </tr>\n",
              "    <tr>\n",
              "      <th>2</th>\n",
              "      <td>1963</td>\n",
              "      <td>1074000</td>\n",
              "      <td>1539500</td>\n",
              "      <td>289500</td>\n",
              "    </tr>\n",
              "    <tr>\n",
              "      <th>3</th>\n",
              "      <td>1964</td>\n",
              "      <td>1079800</td>\n",
              "      <td>1576600</td>\n",
              "      <td>300300</td>\n",
              "    </tr>\n",
              "    <tr>\n",
              "      <th>4</th>\n",
              "      <td>1965</td>\n",
              "      <td>1091300</td>\n",
              "      <td>1689200</td>\n",
              "      <td>366800</td>\n",
              "    </tr>\n",
              "  </tbody>\n",
              "</table>\n",
              "</div>"
            ],
            "text/plain": [
              "   Year  Badlands  GrandCanyon  BryceCanyon\n",
              "0  1961    833300      1253000       264800\n",
              "1  1962   1044800      1447400       251000\n",
              "2  1963   1074000      1539500       289500\n",
              "3  1964   1079800      1576600       300300\n",
              "4  1965   1091300      1689200       366800"
            ]
          },
          "execution_count": 2,
          "metadata": {},
          "output_type": "execute_result"
        }
      ],
      "source": [
        "np_data.head()"
      ]
    },
    {
      "cell_type": "markdown",
      "metadata": {
        "id": "st2yqrwVdhLn"
      },
      "source": [
        "### Histogram"
      ]
    },
    {
      "cell_type": "code",
      "execution_count": null,
      "metadata": {
        "id": "r1HZiWpwdhLo",
        "outputId": "91b5dbb0-ccae-4002-f83b-3a2bfd56812c"
      },
      "outputs": [
        {
          "data": {
            "image/png": "[encoded data removed]",
            "text/plain": [
              "<Figure size 432x288 with 1 Axes>"
            ]
          },
          "metadata": {
            "needs_background": "light"
          },
          "output_type": "display_data"
        }
      ],
      "source": [
        "plt.hist(np_data['GrandCanyon'],\n",
        "         facecolor='peru',\n",
        "         edgecolor='blue',\n",
        "         bins=10)\n",
        "plt.show()"
      ]
    },
    {
      "cell_type": "markdown",
      "metadata": {
        "id": "SZ0vTBx_dhLp"
      },
      "source": [
        "### Components of a histogram\n",
        "* <b>n:</b> Contains the frequency of each bin\n",
        "* <b>bins:</b> Represents the middle value of each bin\n",
        "* <b>patches:</b> The Patch object for the rectangle shape representing each bar"
      ]
    },
    {
      "cell_type": "code",
      "execution_count": null,
      "metadata": {
        "id": "SPZMty5LdhLp",
        "outputId": "3095c90f-5cba-4687-b504-856f378d813e"
      },
      "outputs": [
        {
          "name": "stdout",
          "output_type": "stream",
          "text": [
            "n:  [ 5.  9. 10.  2.  1.  9. 16.  2.  1.  2.]\n",
            "bins:  [1253000.  1753123.8 2253247.6 2753371.4 3253495.2 3753619.  4253742.8\n",
            " 4753866.6 5253990.4 5754114.2 6254238. ]\n",
            "patches:  <a list of 10 Patch objects>\n"
          ]
        },
        {
          "data": {
            "image/png": "[encoded data removed]",
            "text/plain": [
              "<Figure size 432x288 with 1 Axes>"
            ]
          },
          "metadata": {
            "needs_background": "light"
          },
          "output_type": "display_data"
        }
      ],
      "source": [
        "n, bins, patches = plt.hist(np_data['GrandCanyon'],\n",
        "                            facecolor='peru',\n",
        "                            edgecolor='blue',\n",
        "                            bins=10)\n",
        "\n",
        "print('n: ', n)\n",
        "print('bins: ', bins)\n",
        "print('patches: ', patches)"
      ]
    },
    {
      "cell_type": "markdown",
      "metadata": {
        "collapsed": true,
        "id": "_SDtc8UjdhLq"
      },
      "source": [
        "#### The cumulative property\n",
        "If True, then a histogram is computed where each bin gives the counts in that bin plus all bins for smaller values. The last bin gives the total number of datapoints."
      ]
    },
    {
      "cell_type": "code",
      "execution_count": null,
      "metadata": {
        "id": "B34zyuxSdhLq",
        "outputId": "f64c006e-685b-44ec-aca1-894696663665"
      },
      "outputs": [
        {
          "data": {
            "image/png": "[encoded data removed]",
            "text/plain": [
              "<Figure size 432x288 with 1 Axes>"
            ]
          },
          "metadata": {
            "needs_background": "light"
          },
          "output_type": "display_data"
        }
      ],
      "source": [
        "plt.hist(np_data['GrandCanyon'],\n",
        "         facecolor='peru',\n",
        "         edgecolor='blue',\n",
        "         bins=10,\n",
        "         cumulative=True)\n",
        "plt.show()"
      ]
    },
    {
      "cell_type": "markdown",
      "metadata": {
        "id": "inDiVlnLdhLr"
      },
      "source": [
        "#### Check the histogram to a range of values\n",
        "We only look at the data points within the range 2M-5M. This realigns the bins in the histogram"
      ]
    },
    {
      "cell_type": "code",
      "execution_count": null,
      "metadata": {
        "id": "JvmUKS3zdhLr",
        "outputId": "471893ef-236a-4355-ab61-199037205796"
      },
      "outputs": [
        {
          "data": {
            "image/png": "[encoded data removed]",
            "text/plain": [
              "<Figure size 432x288 with 1 Axes>"
            ]
          },
          "metadata": {
            "needs_background": "light"
          },
          "output_type": "display_data"
        }
      ],
      "source": [
        "plt.hist(np_data['GrandCanyon'],\n",
        "         facecolor='peru',\n",
        "         edgecolor='blue',\n",
        "         bins=10,\n",
        "         range=(2000000, 5000000))\n",
        "\n",
        "plt.show()"
      ]
    },
    {
      "cell_type": "markdown",
      "metadata": {
        "id": "qQHDRYzNdhLr"
      },
      "source": [
        "## Multiple histograms"
      ]
    },
    {
      "cell_type": "code",
      "execution_count": null,
      "metadata": {
        "id": "D1Kry8vjdhLs",
        "outputId": "2214d076-e2ae-48d2-fc4f-1b4479eef2bd"
      },
      "outputs": [
        {
          "data": {
            "image/png": "[encoded data removed]",
            "text/plain": [
              "<Figure size 432x288 with 1 Axes>"
            ]
          },
          "metadata": {
            "needs_background": "light"
          },
          "output_type": "display_data"
        }
      ],
      "source": [
        "plt.hist(np_data['BryceCanyon'],\n",
        "         facecolor='orangered',\n",
        "         edgecolor='maroon',\n",
        "         bins=8)\n",
        "\n",
        "plt.hist(np_data['GrandCanyon'],\n",
        "         facecolor='peru',\n",
        "         edgecolor='blue',\n",
        "         bins=10,\n",
        "         alpha = 0.3)\n",
        "\n",
        "plt.show()"
      ]
    },
    {
      "cell_type": "markdown",
      "metadata": {
        "id": "V1mH8Q3SdhLs"
      },
      "source": [
        "## Experiment with 2d Histogram similar to plotting points i.e plt.plot(x,y)"
      ]
    },
    {
      "cell_type": "code",
      "execution_count": null,
      "metadata": {
        "id": "uzL4M8N_dhLs",
        "outputId": "574b7d93-2bdb-4480-d457-949bc1945eda"
      },
      "outputs": [
        {
          "data": {
            "image/png": "[encoded data removed]",
            "text/plain": [
              "<Figure size 432x288 with 1 Axes>"
            ]
          },
          "metadata": {
            "needs_background": "light"
          },
          "output_type": "display_data"
        }
      ],
      "source": [
        "# Big bins\n",
        "plt.hist2d(np_data['Year'], np_data['GrandCanyon'], bins=(50, 50), cmap=plt.cm.jet)\n",
        "plt.show()\n"
      ]
    },
    {
      "cell_type": "code",
      "execution_count": null,
      "metadata": {
        "id": "T9jEhLXEdhLt",
        "outputId": "51a70063-3f57-48b9-f0c2-fb98c7238f0a"
      },
      "outputs": [
        {
          "data": {
            "image/png": "[encoded data removed]",
            "text/plain": [
              "<Figure size 432x288 with 1 Axes>"
            ]
          },
          "metadata": {
            "needs_background": "light"
          },
          "output_type": "display_data"
        }
      ],
      "source": [
        "# Big bins\n",
        "plt.hist2d(np_data['Year'], np_data['Badlands'], bins=(50, 50), cmap=plt.cm.jet)\n",
        "plt.show()"
      ]
    },
    {
      "cell_type": "code",
      "execution_count": null,
      "metadata": {
        "id": "taIe0ozFdhLt",
        "outputId": "79b5036a-96a7-4670-cccf-28a33bb582b5"
      },
      "outputs": [
        {
          "data": {
            "image/png": "[encoded data removed]",
            "text/plain": [
              "<Figure size 432x288 with 1 Axes>"
            ]
          },
          "metadata": {
            "needs_background": "light"
          },
          "output_type": "display_data"
        }
      ],
      "source": [
        "# Big bins\n",
        "plt.hist2d(np_data['Year'], np_data['BryceCanyon'], bins=(50, 50), cmap=plt.cm.jet)\n",
        "plt.show()"
      ]
    },
    {
      "cell_type": "code",
      "execution_count": null,
      "metadata": {
        "id": "3ITj322vdhLt"
      },
      "outputs": [],
      "source": []
    }
  ],
  "metadata": {
    "kernelspec": {
      "display_name": "Python 3",
      "language": "python",
      "name": "python3"
    },
    "language_info": {
      "codemirror_mode": {
        "name": "ipython",
        "version": 3
      },
      "file_extension": ".py",
      "mimetype": "text/x-python",
      "name": "python",
      "nbconvert_exporter": "python",
      "pygments_lexer": "ipython3",
      "version": "3.7.3"
    },
    "colab": {
      "provenance": [],
      "include_colab_link": true
    }
  },
  "nbformat": 4,
  "nbformat_minor": 0
}